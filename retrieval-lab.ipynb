{
 "cells": [
  {
   "cell_type": "markdown",
   "id": "f02c0edb-d8af-448e-94e9-17367d84e55d",
   "metadata": {
    "collapsed": false,
    "name": "Overview"
   },
   "source": [
    "# Retrieval Hands On Lab\n",
    "\n",
    "## Objectives\n",
    "By the end of this lab, participants will:\n",
    "\n",
    "1. Understand how to parse PDFs inside Snowflake\n",
    "2. Understand how to create vector representations of text data and load it into Snowflake tables\n",
    "3. Perform similarity search against embeddings in Snowflake\n",
    "4. Use Snowflake Cortex Search for retrieval and understand the benefits compared to simple similarity search"
   ]
  },
  {
   "cell_type": "markdown",
   "id": "f065f51a-a7a7-4a0d-a686-208956c9639e",
   "metadata": {
    "collapsed": false,
    "name": "Part_1"
   },
   "source": [
    "# Part 1: Setup\n",
    "In this section, we will:\n",
    "\n",
    "1. Create some snowflake objects to store our data in\n",
    "2. Upload a PDF of Cincinnati Parks' 3 year development plan into a stage\n",
    "3. Parse the PDF into usable text and load the results into a Snowflake table"
   ]
  },
  {
   "cell_type": "code",
   "execution_count": null,
   "id": "3775908f-ca36-4846-8f38-5adca39217f2",
   "metadata": {
    "language": "sql",
    "name": "Create_Snowflake_Objects"
   },
   "outputs": [],
   "source": [
    "CREATE OR REPLACE DATABASE RETRIEVAL_LAB;\n",
    "CREATE OR REPLACE SCHEMA DATA;\n",
    "USE RETRIEVAL_LAB.DATA;\n",
    "CREATE OR REPLACE STAGE docs ENCRYPTION = (TYPE = 'SNOWFLAKE_SSE') DIRECTORY = ( ENABLE = true );"
   ]
  },
  {
   "cell_type": "markdown",
   "id": "a1b645d3-13e9-4be9-8bee-7622479929a3",
   "metadata": {
    "collapsed": false,
    "name": "PDF_Upload_Instructions"
   },
   "source": [
    "Here is where we will upload the PDF. To do so, navigate to our newly created stage by:\n",
    "\n",
    "1. Click on the Database icon on the left nav bar\n",
    "2. Go to your 'RETRIEVAL_LAB' database\n",
    "3. Expand the 'DATA' schema\n",
    "4. Click on 'Stages'\n",
    "5. Click on the 'DOCS' stage\n",
    "\n",
    "Once you're at the stage, we will download and upload the pdf.\n",
    "\n",
    "TODO: Hoping we can just store the pdf in one spot"
   ]
  },
  {
   "cell_type": "code",
   "execution_count": null,
   "id": "c695373e-ac74-4b62-a1f1-08206cbd5c81",
   "metadata": {
    "codeCollapsed": false,
    "language": "sql",
    "name": "View_PDF"
   },
   "outputs": [],
   "source": [
    "-- Open the URL generated below\n",
    "SELECT GET_PRESIGNED_URL('@docs', 'cincinnati-parks-3-year-plan.pdf', 3600);"
   ]
  },
  {
   "cell_type": "code",
   "execution_count": null,
   "id": "ec8ac735-69a5-4b52-980b-d16b6369a833",
   "metadata": {
    "codeCollapsed": false,
    "language": "sql",
    "name": "Create_Parsed_PDF_Table"
   },
   "outputs": [],
   "source": [
    "-- This table will store the text from the parsed PDF\n",
    "CREATE OR REPLACE TABLE PARSED_PDFS ( \n",
    "    RELATIVE_PATH VARCHAR,\n",
    "    SIZE NUMBER(38,0),\n",
    "    FILE_URL VARCHAR,\n",
    "    PARSED_DATA VARCHAR);"
   ]
  },
  {
   "cell_type": "code",
   "execution_count": null,
   "id": "d4433273-b96e-460b-bf04-706a4d5e0661",
   "metadata": {
    "codeCollapsed": false,
    "language": "sql",
    "name": "Parse_PDFs"
   },
   "outputs": [],
   "source": [
    "-- We use Snowflake Cortex's PARSE_DOCUMENT function to extract the text from the pdf and save it to a column\n",
    "INSERT INTO PARSED_PDFS (relative_path, size, file_url, parsed_data)\n",
    "SELECT \n",
    "        relative_path,\n",
    "        size,\n",
    "        file_url,\n",
    "    SNOWFLAKE.CORTEX.PARSE_DOCUMENT('@docs', relative_path, { 'mode': 'OCR' }):content AS parsed_data\n",
    "    FROM directory(@docs);"
   ]
  },
  {
   "cell_type": "code",
   "execution_count": null,
   "id": "ee574655-7368-41c8-8fcb-eaaeae3ceff0",
   "metadata": {
    "codeCollapsed": false,
    "language": "sql",
    "name": "Verify_PDF_Parsing"
   },
   "outputs": [],
   "source": [
    "-- Verify the data was successfully parsed\n",
    "select * from PARSED_PDFS;"
   ]
  },
  {
   "cell_type": "markdown",
   "id": "4be61e87-16c1-4406-9209-321a1d2363c9",
   "metadata": {
    "collapsed": false,
    "name": "Part2"
   },
   "source": [
    "## Part 2 - Generate Embeddings\n",
    "\n",
    "In this section, we will:\n",
    "\n",
    "1. Explore various strategies for chunking the text data\n",
    "2. Generate embeddings for our text chunks\n",
    "3. Load the results into a Snowflake table using the `VECTOR` datatype"
   ]
  },
  {
   "cell_type": "markdown",
   "id": "4a36ab18-e357-41e5-995e-52b2a79f4d30",
   "metadata": {
    "collapsed": false,
    "name": "cell1"
   },
   "source": [
    "### Chunking Strategies\n",
    "\n",
    "In this section, we'll explore various chunking strategies. The right strategy will ultimately depend on the data and use case at hand. In our example, the PDF is cleanly delineated into paragraphs, so a simple regex based chunker is ideal.\n",
    "\n",
    "1. Snowflake Recursive Text Splitter\n",
    "2. Semantic Chunking\n",
    "3. Simple Chunking"
   ]
  },
  {
   "cell_type": "code",
   "execution_count": null,
   "id": "ef3d7283-ccd9-4c5d-a2d0-4326aef5708c",
   "metadata": {
    "language": "sql",
    "name": "Snowflake_Recursive_Chunker"
   },
   "outputs": [],
   "source": [
    "SELECT\n",
    "  f.value::string AS chunk\n",
    "FROM\n",
    "  PARSED_PDFS,\n",
    "  LATERAL FLATTEN(\n",
    "    INPUT => SNOWFLAKE.CORTEX.SPLIT_TEXT_RECURSIVE_CHARACTER(\n",
    "      PARSED_DATA,\n",
    "      'none',\n",
    "      1000,\n",
    "      100\n",
    "    )\n",
    "  ) f;"
   ]
  },
  {
   "cell_type": "code",
   "execution_count": null,
   "id": "1deb0a49-5ca6-4567-bac6-d3d5dd2109d1",
   "metadata": {
    "codeCollapsed": false,
    "language": "python",
    "name": "Read_Parsed_PDF_Table_In_Python"
   },
   "outputs": [],
   "source": [
    "from snowflake.snowpark.context import get_active_session\n",
    "from snowflake.core import Root\n",
    "\n",
    "session = get_active_session()\n",
    "\n",
    "parsed_data_df = session.table('parsed_pdfs')\n",
    "parsed_text = parsed_data_df.collect()[0]\n"
   ]
  },
  {
   "cell_type": "code",
   "execution_count": null,
   "id": "822a4bae-20d6-4c48-9214-ea74f17a0e7c",
   "metadata": {
    "language": "python",
    "name": "cell2"
   },
   "outputs": [],
   "source": [
    "import nltk\n",
    "nltk.download('punkt')  # Run once\n",
    "from nltk.tokenize import sent_tokenize\n",
    "\n",
    "# Extract text from your Snowflake row\n",
    "text = parsed_text['PARSED_DATA']\n",
    "\n",
    "# Split into sentences\n",
    "sentences = sent_tokenize(text)\n",
    "\n",
    "# Optional: Group sentences into chunks of ~500 characters\n",
    "chunks = []\n",
    "chunk = \"\"\n",
    "for sentence in sentences:\n",
    "    if len(chunk) + len(sentence) < 500:\n",
    "        chunk += \" \" + sentence\n",
    "    else:\n",
    "        chunks.append(chunk.strip())\n",
    "        chunk = sentence\n",
    "if chunk:\n",
    "    chunks.append(chunk.strip())\n",
    "\n",
    "# Print the chunks\n",
    "for i, c in enumerate(chunks):\n",
    "    print(f\"Chunk {i+1}:\\n{c}\\n\")"
   ]
  },
  {
   "cell_type": "code",
   "execution_count": null,
   "id": "88a37a78-3109-4231-ba66-3d7a27111a76",
   "metadata": {
    "codeCollapsed": false,
    "language": "python",
    "name": "Simple_Chunking"
   },
   "outputs": [],
   "source": [
    "import re\n",
    "\n",
    "def chunk_by_project(parsed_text):\n",
    "    # Use regex to find titles and their following paragraphs\n",
    "    # A project title is in all caps and followed by a paragraph (could be multiline\")\n",
    "    pattern = r'([A-Z0-9 ,&\\-()]+)\\n(.*?)(?=(?:\\n[A-Z0-9 ,&\\-()]+\\n)|\\Z)'  # \\Z means end of string\n",
    "    matches = re.findall(pattern, parsed_text['PARSED_DATA'], re.DOTALL)\n",
    "\n",
    "    chunk_records = []\n",
    "    for title, description in matches:\n",
    "        clean_title = title.strip()\n",
    "        clean_description = description.strip().replace('\\n', ' ')\n",
    "        text_chunk = f\"{clean_title}\\n{clean_description}\"\n",
    "        chunk_records.append({\n",
    "            \"relative_path\": parsed_text[\"RELATIVE_PATH\"],\n",
    "            \"size\": parsed_text[\"SIZE\"],\n",
    "            \"file_url\": parsed_text[\"FILE_URL\"],\n",
    "            \"chunk\": text_chunk\n",
    "        })\n",
    "    return chunk_records\n",
    "    \n",
    "\n",
    "chunks = chunk_by_project(parsed_text)\n"
   ]
  },
  {
   "cell_type": "code",
   "execution_count": null,
   "id": "80620465-147e-42a5-9a46-5be0db654b5f",
   "metadata": {
    "codeCollapsed": false,
    "language": "python",
    "name": "View_Chunk_Results"
   },
   "outputs": [],
   "source": [
    "for chunk in chunks:\n",
    "    print(chunk)"
   ]
  },
  {
   "cell_type": "code",
   "execution_count": null,
   "id": "e6172931-178e-4170-878d-53eb03e43b2a",
   "metadata": {
    "codeCollapsed": false,
    "language": "python",
    "name": "Generate_Embeddings"
   },
   "outputs": [],
   "source": [
    "from snowflake.cortex import embed_text_768\n",
    "\n",
    "model = 'e5-base-v2'\n",
    "for chunk in chunks:\n",
    "    chunk['embedding'] = embed_text_768(model, chunk['chunk'], session)\n",
    "    "
   ]
  },
  {
   "cell_type": "code",
   "execution_count": null,
   "id": "c209153f-9804-4dc1-9d79-4b37ff093a8d",
   "metadata": {
    "codeCollapsed": false,
    "language": "python",
    "name": "Load_Embeddings"
   },
   "outputs": [],
   "source": [
    "from snowflake.snowpark.types import VectorType, DoubleType\n",
    "df = session.create_dataframe(chunks)\n",
    "df = df.with_column('embedding', df.col('embedding').cast(VectorType(float, 768)))\n",
    "df.write.save_as_table(\"DOCS_CHUNKS_TABLE\")"
   ]
  },
  {
   "cell_type": "code",
   "execution_count": null,
   "id": "ef7e4a58-2caa-48a3-8968-dd8981b244c4",
   "metadata": {
    "codeCollapsed": false,
    "language": "sql",
    "name": "Verify_Embeddings"
   },
   "outputs": [],
   "source": [
    "select * from DOCS_CHUNKS_TABLE;"
   ]
  },
  {
   "cell_type": "code",
   "execution_count": null,
   "id": "7e0f0842-88e2-468f-867d-d5726955776f",
   "metadata": {
    "codeCollapsed": false,
    "language": "sql",
    "name": "cell13"
   },
   "outputs": [],
   "source": [
    "select * from docs_chunks_table where contains(chunk, 'SAWYER POINT PLAYGROUND');"
   ]
  },
  {
   "cell_type": "code",
   "execution_count": null,
   "id": "612e1a83-ddd1-47b9-aae2-08d6648c8c3a",
   "metadata": {
    "codeCollapsed": false,
    "language": "sql",
    "name": "cell8"
   },
   "outputs": [],
   "source": [
    "SELECT VECTOR_COSINE_SIMILARITY(\n",
    "            docs_chunks_table.embedding,\n",
    "            SNOWFLAKE.CORTEX.EMBED_TEXT_768('e5-base-v2', 'When will the Ault Park trail plan complete?')\n",
    "       ) as similarity,\n",
    "       chunk\n",
    "FROM docs_chunks_table\n",
    "ORDER BY similarity desc\n",
    "LIMIT 3\n",
    ";"
   ]
  },
  {
   "cell_type": "markdown",
   "id": "3536db19-0dcd-4a84-bee5-19740d7847bd",
   "metadata": {
    "collapsed": false,
    "name": "cell5"
   },
   "source": [
    "## Create Cortex Search Service for advanced hybrid search"
   ]
  },
  {
   "cell_type": "code",
   "execution_count": null,
   "id": "c60bbe05-5360-4dd3-9eeb-0178927ad2ea",
   "metadata": {
    "language": "sql",
    "name": "cell9"
   },
   "outputs": [],
   "source": [
    "select * from docs_chunks_table"
   ]
  },
  {
   "cell_type": "code",
   "execution_count": null,
   "id": "84a54785-f0e9-48cc-8b87-bde2476a0960",
   "metadata": {
    "codeCollapsed": false,
    "language": "sql",
    "name": "cell7"
   },
   "outputs": [],
   "source": [
    "CREATE OR REPLACE CORTEX SEARCH SERVICE parks_search_service\n",
    "  ON CHUNK\n",
    "  WAREHOUSE = compute_wh\n",
    "  TARGET_LAG = '1 day'\n",
    "  EMBEDDING_MODEL = 'snowflake-arctic-embed-m-v1.5'\n",
    "  AS (\n",
    "    SELECT\n",
    "        CHUNK,\n",
    "        \n",
    "    FROM docs_chunks_table\n",
    ");"
   ]
  },
  {
   "cell_type": "code",
   "execution_count": null,
   "id": "e9276996-bca5-4498-9229-cf6739802f21",
   "metadata": {
    "codeCollapsed": false,
    "language": "python",
    "name": "cell14"
   },
   "outputs": [],
   "source": [
    "from snowflake.snowpark.context import get_active_session\n",
    "from snowflake.core import Root\n",
    "\n",
    "session = get_active_session()\n",
    "\n",
    "root = Root(session)\n",
    "transcript_search_service = (root\n",
    "  .databases[\"RETRIEVAL_LAB\"]\n",
    "  .schemas[\"DATA\"]\n",
    "  .cortex_search_services[\"parks_search_service\"]\n",
    ")\n",
    "\n",
    "resp = transcript_search_service.search(\n",
    "  query=\"When will the Ault Park trail plan complete?\",\n",
    "  columns=[\"chunk\"],\n",
    "  limit=3\n",
    ")\n",
    "print(resp.to_json())\n"
   ]
  },
  {
   "cell_type": "code",
   "execution_count": null,
   "id": "f8f55dfb-9db5-4611-96b3-c33db9c58700",
   "metadata": {
    "codeCollapsed": false,
    "language": "sql",
    "name": "cell10"
   },
   "outputs": [],
   "source": [
    "SELECT\n",
    "  *\n",
    "FROM\n",
    "  TABLE (\n",
    "    CORTEX_SEARCH_DATA_SCAN (\n",
    "      SERVICE_NAME => 'parks_search_service'\n",
    "    )\n",
    "  );"
   ]
  },
  {
   "cell_type": "code",
   "execution_count": null,
   "id": "bb20059b-34af-4e18-8a42-53b4b8f46447",
   "metadata": {
    "language": "sql",
    "name": "cell11"
   },
   "outputs": [],
   "source": [
    "select * from docs_chunks_table where contains(chunk, 'AULT PARK VALLEY TRAIL');"
   ]
  },
  {
   "cell_type": "code",
   "execution_count": null,
   "id": "a0b4707b-c54b-41f1-9541-4176eaa6e4b2",
   "metadata": {
    "language": "sql",
    "name": "cell15"
   },
   "outputs": [],
   "source": []
  }
 ],
 "metadata": {
  "kernelspec": {
   "display_name": ".venv",
   "language": "python",
   "name": "python3"
  },
  "language_info": {
   "name": "python",
   "version": "3.13.1"
  },
  "lastEditStatus": {
   "authorEmail": "dschuler36@gmail.com",
   "authorId": "1268462853256",
   "authorName": "DSCHULER36",
   "lastEditTime": 1747254345282,
   "notebookId": "dcsylqc6hs5hqndpfgpn",
   "sessionId": "ee31f692-1a6a-4c73-a485-291c1646f7ba"
  }
 },
 "nbformat": 4,
 "nbformat_minor": 5
}
